{
 "cells": [
  {
   "cell_type": "code",
   "execution_count": 83,
   "metadata": {},
   "outputs": [
    {
     "name": "stdout",
     "output_type": "stream",
     "text": [
      "369917\r\n"
     ]
    }
   ],
   "source": [
    "!ls /mnt/disks/ssd/images_sample | wc -l"
   ]
  },
  {
   "cell_type": "code",
   "execution_count": 119,
   "metadata": {},
   "outputs": [
    {
     "name": "stdout",
     "output_type": "stream",
     "text": [
      "20G\t/mnt/disks/ssd/images_sample\n",
      "Filesystem      Size  Used Avail Use% Mounted on\n",
      "udev            8.9G     0  8.9G   0% /dev\n",
      "tmpfs           1.8G   19M  1.8G   2% /run\n",
      "/dev/sda1        50G   26G   22G  55% /\n",
      "tmpfs           8.9G     0  8.9G   0% /dev/shm\n",
      "tmpfs           5.0M     0  5.0M   0% /run/lock\n",
      "tmpfs           8.9G     0  8.9G   0% /sys/fs/cgroup\n",
      "/dev/sdb        369G  195G  155G  56% /mnt/disks/ssd\n",
      "tmpfs           1.8G   20K  1.8G   1% /run/user/1002\n"
     ]
    }
   ],
   "source": [
    "!du -sh /mnt/disks/ssd/images_sample\n",
    "!df -h"
   ]
  },
  {
   "cell_type": "code",
   "execution_count": 120,
   "metadata": {},
   "outputs": [],
   "source": [
    "!cd /mnt/disks/ssd/; tar -czf images_sample2.tar.gz images_sample2/"
   ]
  },
  {
   "cell_type": "code",
   "execution_count": 121,
   "metadata": {},
   "outputs": [
    {
     "name": "stdout",
     "output_type": "stream",
     "text": [
      "19G\t/mnt/disks/ssd/images_sample2.tar.gz\r\n"
     ]
    }
   ],
   "source": [
    "!du -sh /mnt/disks/ssd/images_sample2.tar.gz"
   ]
  },
  {
   "cell_type": "code",
   "execution_count": 96,
   "metadata": {},
   "outputs": [
    {
     "name": "stdout",
     "output_type": "stream",
     "text": [
      "Copying file:///mnt/disks/ssd/images_sample1.tar.gz [Content-Type=application/x-tar]...\n",
      "==> NOTE: You are uploading one or more large file(s), which would run          \n",
      "significantly faster if you enable parallel composite uploads. This\n",
      "feature can be enabled by editing the\n",
      "\"parallel_composite_upload_threshold\" value in your .boto\n",
      "configuration file. However, note that if you do this large files will\n",
      "be uploaded as `composite objects\n",
      "<https://cloud.google.com/storage/docs/composite-objects>`_,which\n",
      "means that any user who downloads such objects will need to have a\n",
      "compiled crcmod installed (see \"gsutil help crcmod\"). This is because\n",
      "without a compiled crcmod, computing checksums on composite objects is\n",
      "so slow that gsutil disables downloads of composite objects.\n",
      "\n",
      "- [1 files][ 17.5 GiB/ 17.5 GiB]   63.8 MiB/s                                   \n",
      "Operation completed over 1 objects/17.5 GiB.                                     \n"
     ]
    }
   ],
   "source": [
    "!gsutil cp /mnt/disks/ssd/images_sample1.tar.gz gs://mindat-images/"
   ]
  },
  {
   "cell_type": "code",
   "execution_count": 95,
   "metadata": {},
   "outputs": [
    {
     "name": "stdout",
     "output_type": "stream",
     "text": [
      "\n",
      "You are running on a Google Compute Engine virtual machine.\n",
      "It is recommended that you use service accounts for authentication.\n",
      "\n",
      "You can run:\n",
      "\n",
      "  $ gcloud config set account `ACCOUNT`\n",
      "\n",
      "to switch accounts if necessary.\n",
      "\n",
      "Your credentials may be visible to others with access to this\n",
      "virtual machine. Are you sure you want to authenticate with\n",
      "your personal account?\n",
      "\n",
      "Do you want to continue (Y/n)?  ^C\n",
      "\n",
      "\n",
      "Command killed by keyboard interrupt\n",
      "\n"
     ]
    }
   ],
   "source": [
    "!gcloud auth login"
   ]
  },
  {
   "cell_type": "code",
   "execution_count": 23,
   "metadata": {},
   "outputs": [],
   "source": [
    "import pandas as pd\n",
    "from PIL import Image\n",
    "from collections import defaultdict, Counter\n",
    "from fastai.vision import Path\n",
    "images_path = Path('/mnt/disks/ssd/data/images')"
   ]
  },
  {
   "cell_type": "code",
   "execution_count": 27,
   "metadata": {},
   "outputs": [
    {
     "name": "stdout",
     "output_type": "stream",
     "text": [
      "836497\n"
     ]
    },
    {
     "data": {
      "text/plain": [
       "(                          image_file      minerals  is_valid  file_exists  \\\n",
       " 0  09_fc_02582720014967692024616.jpg       Adamite         0         True   \n",
       " 1  a6_14_06621790014959081712428.jpg      Analcime         1         True   \n",
       " 2  34_19_01255090015057502027694.jpg     Anglesite         0         True   \n",
       " 3  37_6c_07690630015043299332325.jpg     Anglesite         0         True   \n",
       " 4  4f_61_03608270014978653137032.jpg  Fluorapatite         1         True   \n",
       " \n",
       "    st_size  \n",
       " 0    54080  \n",
       " 1    44700  \n",
       " 2    57400  \n",
       " 3    31832  \n",
       " 4    62166  ,             is_valid       st_size\n",
       " count  836497.000000  8.364970e+05\n",
       " mean        0.200193  8.911027e+04\n",
       " std         0.400145  6.528910e+04\n",
       " min         0.000000  1.312000e+03\n",
       " 25%         0.000000  4.439100e+04\n",
       " 50%         0.000000  7.421400e+04\n",
       " 75%         0.000000  1.156450e+05\n",
       " max         1.000000  2.219532e+06)"
      ]
     },
     "execution_count": 27,
     "metadata": {},
     "output_type": "execute_result"
    }
   ],
   "source": [
    "train_df = pd.read_csv('data/train_df.csv').dropna()\n",
    "train_df['file_exists'] = train_df.image_file.map(lambda p: (images_path/p).exists())\n",
    "train_df = train_df[train_df.file_exists==True]\n",
    "train_df['st_size'] = train_df.image_file.map(lambda f: (images_path/f).lstat().st_size)\n",
    "print(len(train_df))\n",
    "train_df.head(), train_df.describe()"
   ]
  },
  {
   "cell_type": "code",
   "execution_count": 28,
   "metadata": {},
   "outputs": [],
   "source": [
    "counter = Counter(m for s in train_df.minerals for m in s.split('|'))"
   ]
  },
  {
   "cell_type": "code",
   "execution_count": 29,
   "metadata": {},
   "outputs": [
    {
     "data": {
      "text/plain": [
       "4219"
      ]
     },
     "execution_count": 29,
     "metadata": {},
     "output_type": "execute_result"
    }
   ],
   "source": [
    "counter['Adamite']"
   ]
  },
  {
   "cell_type": "code",
   "execution_count": 17,
   "metadata": {},
   "outputs": [
    {
     "data": {
      "text/plain": [
       "403338"
      ]
     },
     "execution_count": 17,
     "metadata": {},
     "output_type": "execute_result"
    }
   ],
   "source": [
    "sum(o[1] for o in counter.most_common(10))"
   ]
  },
  {
   "cell_type": "code",
   "execution_count": 30,
   "metadata": {},
   "outputs": [],
   "source": [
    "train_df['most_common_count'] = train_df.minerals.map(lambda s: max(counter[m] for m in s.split('|')))\n",
    "train_df['least_common_count'] = train_df.minerals.map(lambda s: min(counter[m] for m in s.split('|')))"
   ]
  },
  {
   "cell_type": "code",
   "execution_count": 44,
   "metadata": {},
   "outputs": [
    {
     "data": {
      "text/plain": [
       "(20, 369917)"
      ]
     },
     "execution_count": 44,
     "metadata": {},
     "output_type": "execute_result"
    }
   ],
   "source": [
    "N = 100000\n",
    "sum(train_df[(train_df['least_common_count']>=1000) & (train_df['st_size'] < N)].st_size)//10**9, \\\n",
    "len(train_df[(train_df['least_common_count']>=1000) & (train_df['st_size'] < N)])"
   ]
  },
  {
   "cell_type": "code",
   "execution_count": 47,
   "metadata": {},
   "outputs": [
    {
     "data": {
      "text/plain": [
       "184"
      ]
     },
     "execution_count": 47,
     "metadata": {},
     "output_type": "execute_result"
    }
   ],
   "source": [
    "sub_df = train_df[(train_df['least_common_count']>=1000) & (train_df['st_size'] < N)]\n",
    "len(Counter(m for s in sub_df.minerals for m in s.split('|')))"
   ]
  },
  {
   "cell_type": "code",
   "execution_count": 51,
   "metadata": {},
   "outputs": [
    {
     "name": "stderr",
     "output_type": "stream",
     "text": [
      "/opt/anaconda3/lib/python3.7/site-packages/ipykernel_launcher.py:1: SettingWithCopyWarning: \n",
      "A value is trying to be set on a copy of a slice from a DataFrame.\n",
      "Try using .loc[row_indexer,col_indexer] = value instead\n",
      "\n",
      "See the caveats in the documentation: http://pandas.pydata.org/pandas-docs/stable/indexing.html#indexing-view-versus-copy\n",
      "  \"\"\"Entry point for launching an IPython kernel.\n"
     ]
    },
    {
     "data": {
      "text/plain": [
       "0         /mnt/disks/ssd/data/images/09_fc_0258272001496...\n",
       "1         /mnt/disks/ssd/data/images/a6_14_0662179001495...\n",
       "2         /mnt/disks/ssd/data/images/34_19_0125509001505...\n",
       "3         /mnt/disks/ssd/data/images/37_6c_0769063001504...\n",
       "4         /mnt/disks/ssd/data/images/4f_61_0360827001497...\n",
       "5         /mnt/disks/ssd/data/images/fb_c9_0446338001497...\n",
       "6         /mnt/disks/ssd/data/images/e2_5b_0183497001514...\n",
       "8         /mnt/disks/ssd/data/images/80_f1_0291561001501...\n",
       "10        /mnt/disks/ssd/data/images/38_80_0610078001494...\n",
       "11        /mnt/disks/ssd/data/images/16_71_0193907001496...\n",
       "15        /mnt/disks/ssd/data/images/ba_30_0948008001502...\n",
       "16        /mnt/disks/ssd/data/images/40_41_0917509001500...\n",
       "17        /mnt/disks/ssd/data/images/22_3d_0835584001495...\n",
       "18        /mnt/disks/ssd/data/images/0b_d7_0893959001495...\n",
       "19        /mnt/disks/ssd/data/images/66_6f_0235885001500...\n",
       "20        /mnt/disks/ssd/data/images/69_ef_0223272001495...\n",
       "21        /mnt/disks/ssd/data/images/c4_a4_0394169001495...\n",
       "23        /mnt/disks/ssd/data/images/f5_2d_0663321001511...\n",
       "24        /mnt/disks/ssd/data/images/81_a6_0635664001498...\n",
       "25        /mnt/disks/ssd/data/images/47_cb_0445617001504...\n",
       "26        /mnt/disks/ssd/data/images/f6_6e_0703234001498...\n",
       "27        /mnt/disks/ssd/data/images/e6_4d_0110055001498...\n",
       "28        /mnt/disks/ssd/data/images/bd_87_0223611001494...\n",
       "32        /mnt/disks/ssd/data/images/92_52_0606713001514...\n",
       "33        /mnt/disks/ssd/data/images/23_08_0093466001498...\n",
       "34        /mnt/disks/ssd/data/images/0a_c4_0693717001499...\n",
       "36        /mnt/disks/ssd/data/images/68_62_0692983001496...\n",
       "39        /mnt/disks/ssd/data/images/b5_36_0664790001501...\n",
       "41        /mnt/disks/ssd/data/images/b3_75_0432703001498...\n",
       "43        /mnt/disks/ssd/data/images/e2_1d_0829843001502...\n",
       "                                ...                        \n",
       "846596    /mnt/disks/ssd/data/images/33_2e_0866837001559...\n",
       "846597    /mnt/disks/ssd/data/images/14_9c_0144215001559...\n",
       "846598    /mnt/disks/ssd/data/images/6d_50_0332325001559...\n",
       "846600    /mnt/disks/ssd/data/images/1d_e3_0803079001559...\n",
       "846602    /mnt/disks/ssd/data/images/58_c3_0093810001559...\n",
       "846607    /mnt/disks/ssd/data/images/93_de_0846108001559...\n",
       "846608    /mnt/disks/ssd/data/images/95_ee_0765096001559...\n",
       "846609    /mnt/disks/ssd/data/images/0e_07_0644177001559...\n",
       "846613    /mnt/disks/ssd/data/images/ad_d2_0391383001559...\n",
       "846614    /mnt/disks/ssd/data/images/25_28_0737770001559...\n",
       "846616    /mnt/disks/ssd/data/images/37_ab_0022363001559...\n",
       "846617    /mnt/disks/ssd/data/images/f2_97_0050207001559...\n",
       "846620    /mnt/disks/ssd/data/images/d1_09_0486057001559...\n",
       "846621    /mnt/disks/ssd/data/images/0e_c7_0918311001559...\n",
       "846623    /mnt/disks/ssd/data/images/e8_63_0211212001559...\n",
       "846624    /mnt/disks/ssd/data/images/47_ff_0984377001559...\n",
       "846625    /mnt/disks/ssd/data/images/dd_13_0625689001559...\n",
       "846627    /mnt/disks/ssd/data/images/ff_c3_0663786001559...\n",
       "846629    /mnt/disks/ssd/data/images/34_49_0490259001559...\n",
       "846631    /mnt/disks/ssd/data/images/3c_a1_0466511001559...\n",
       "846633    /mnt/disks/ssd/data/images/01_03_0296817001559...\n",
       "846634    /mnt/disks/ssd/data/images/fc_46_0568234001559...\n",
       "846635    /mnt/disks/ssd/data/images/a8_05_0598041001559...\n",
       "846636    /mnt/disks/ssd/data/images/13_eb_0457822001559...\n",
       "846637    /mnt/disks/ssd/data/images/df_23_0371036001559...\n",
       "846638    /mnt/disks/ssd/data/images/ac_b8_0859976001559...\n",
       "846655    /mnt/disks/ssd/data/images/ce_36_0457092001559...\n",
       "846656    /mnt/disks/ssd/data/images/f7_80_0000223001559...\n",
       "846664    /mnt/disks/ssd/data/images/30_89_0455320001559...\n",
       "846665    /mnt/disks/ssd/data/images/1e_4b_0938575001559...\n",
       "Name: path, Length: 369917, dtype: object"
      ]
     },
     "execution_count": 51,
     "metadata": {},
     "output_type": "execute_result"
    }
   ],
   "source": [
    "sub_df['path'] = sub_df.image_file.map(lambda f: (images_path/f))\n",
    "sub_df.path"
   ]
  },
  {
   "cell_type": "code",
   "execution_count": 98,
   "metadata": {},
   "outputs": [],
   "source": [
    "sub_df.to_csv('data/sample1_train_df.csv', index=False)"
   ]
  },
  {
   "cell_type": "code",
   "execution_count": 114,
   "metadata": {},
   "outputs": [
    {
     "data": {
      "text/plain": [
       "(21, 726145)"
      ]
     },
     "execution_count": 114,
     "metadata": {},
     "output_type": "execute_result"
    }
   ],
   "source": [
    "N = 150000\n",
    "sum(train_df[(train_df['st_size'] < N)].sample(300000).st_size)//10**9, \\\n",
    "len(train_df[(train_df['st_size'] < N)])"
   ]
  },
  {
   "cell_type": "code",
   "execution_count": 115,
   "metadata": {},
   "outputs": [
    {
     "data": {
      "text/plain": [
       "5515"
      ]
     },
     "execution_count": 115,
     "metadata": {},
     "output_type": "execute_result"
    }
   ],
   "source": [
    "sub2_df = train_df[(train_df['st_size'] < N)].sample(300000)\n",
    "len(Counter(m for s in sub2_df.minerals for m in s.split('|')))"
   ]
  },
  {
   "cell_type": "code",
   "execution_count": 118,
   "metadata": {},
   "outputs": [],
   "source": [
    "dst_dir = Path('/mnt/disks/ssd/images_sample2')\n",
    "#dst_dir.mkdir()\n",
    "for idx, row in sub2_df.iterrows():\n",
    "    shutil.copy(images_path/row.image_file, dst_dir/row.image_file)"
   ]
  },
  {
   "cell_type": "code",
   "execution_count": null,
   "metadata": {},
   "outputs": [],
   "source": [
    "sub_df.to_csv('data/sample1_train_df.csv', index=False)"
   ]
  },
  {
   "cell_type": "code",
   "execution_count": 82,
   "metadata": {},
   "outputs": [],
   "source": [
    "import os\n",
    "import shutil\n",
    "dst_dir = Path('/mnt/disks/ssd/images_sample')\n",
    "for idx, row in sub_df.iterrows():\n",
    "    shutil.copy(row.path, dst_dir/row.image_file)"
   ]
  },
  {
   "cell_type": "code",
   "execution_count": 31,
   "metadata": {},
   "outputs": [
    {
     "data": {
      "text/plain": [
       "defaultdict(list,\n",
       "            {'Clinochlore': [273645],\n",
       "             'Grossular': [273645],\n",
       "             'Hessonite': [273645],\n",
       "             'Pyrrhotite': [572446],\n",
       "             'Wolframite': [454315],\n",
       "             'Ferberite': [454315, 517327],\n",
       "             'Molybdenite': [454315],\n",
       "             'Quartz': [454315,\n",
       "              678953,\n",
       "              678953,\n",
       "              609317,\n",
       "              531738,\n",
       "              522401,\n",
       "              484937,\n",
       "              542594,\n",
       "              214835,\n",
       "              143215,\n",
       "              448922,\n",
       "              10413,\n",
       "              737468,\n",
       "              545903,\n",
       "              23815],\n",
       "             'Fluorite': [109429,\n",
       "              571592,\n",
       "              359106,\n",
       "              582363,\n",
       "              211894,\n",
       "              187516,\n",
       "              628935,\n",
       "              18646,\n",
       "              584698,\n",
       "              23815],\n",
       "             'Calcite': [109429,\n",
       "              261239,\n",
       "              455151,\n",
       "              102220,\n",
       "              628552,\n",
       "              154411,\n",
       "              10413,\n",
       "              582363,\n",
       "              225876],\n",
       "             'Amethyst': [678953, 484937, 542594],\n",
       "             'Bismuthinite': [590515],\n",
       "             'Kruijenite': [818157],\n",
       "             'Ettringite': [818157],\n",
       "             'Thaumasite': [818157],\n",
       "             'Galena': [831061, 448922, 225876, 211894],\n",
       "             'Pyrite': [831061, 271841, 359106],\n",
       "             'Cassiterite': [234629, 700539],\n",
       "             'Muscovite': [234629, 582363, 737468],\n",
       "             'Albite': [234629, 841952, 61058],\n",
       "             'Tugtupite': [282673],\n",
       "             'Stilbite subgroup': [423867, 644868, 640667],\n",
       "             'Azurite': [671206],\n",
       "             'Lepidolite': [609317],\n",
       "             'Chalcocite': [232422],\n",
       "             'Djurleite': [232422],\n",
       "             'Apatite Group': [817278],\n",
       "             'Analcime': [835329],\n",
       "             'Phillipsite': [835329],\n",
       "             'Mohawkite': [522401],\n",
       "             'Koutekite': [522401],\n",
       "             'Sidwillite': [832789],\n",
       "             'Sphalerite': [754943, 448922],\n",
       "             'Siderite': [754943],\n",
       "             'Chalcopyrite': [754943, 143215, 448922],\n",
       "             'Tourmaline': [158843, 61058],\n",
       "             'Rubellite': [158843],\n",
       "             'Malachite': [315355, 347987],\n",
       "             'Ottoite': [496552],\n",
       "             'Housleyite': [496552],\n",
       "             'Mushistonite': [307221],\n",
       "             'Kësterite ': [307221],\n",
       "             'Xenotime-(Y)': [132995],\n",
       "             'Fluorapophyllite-(K)': [644868, 199775, 640667],\n",
       "             'Gypsum': [643295],\n",
       "             'Atacamite': [643295],\n",
       "             'Wulfenite': [152596, 551431],\n",
       "             'Scheelite': [517327],\n",
       "             'Topaz': [517327],\n",
       "             'Almandine': [732363],\n",
       "             'Spinel': [356307, 620317, 485759],\n",
       "             'Dundasite': [375520],\n",
       "             'Spessartine': [458667],\n",
       "             'Stephanite': [482420],\n",
       "             'Polybasite': [482420],\n",
       "             'Chrysoprase': [690845],\n",
       "             'Sarkinite': [319592],\n",
       "             'Gold': [72163],\n",
       "             'Wollastonite': [82749],\n",
       "             'Triplite': [573345],\n",
       "             'Pectolite': [199775],\n",
       "             'Hematite': [735536, 271841],\n",
       "             'Elbaite': [841952],\n",
       "             'Cleavelandite': [841952],\n",
       "             'Baryte': [571592, 359106, 142171, 628935, 584698],\n",
       "             'Heulandite-Ca': [628552],\n",
       "             'Laumontite': [628552],\n",
       "             'Cylindrite': [302478],\n",
       "             'Ilmenite': [620317],\n",
       "             'Rutile': [620317],\n",
       "             'Acanthite': [141951],\n",
       "             'Heulandite subgroup': [690596],\n",
       "             'Realgar': [154411],\n",
       "             'Pyromorphite': [831410, 354746, 584776],\n",
       "             'Kidwellite': [316424, 753409],\n",
       "             'Adamsite-(Y)': [239634],\n",
       "             'Beryl': [603099],\n",
       "             'Aquamarine': [603099],\n",
       "             'Tubulite': [465320],\n",
       "             'Eucryptite': [780183],\n",
       "             'Opal': [711794, 534992],\n",
       "             'Moss Opal': [711794],\n",
       "             'Hephaistosite': [314088],\n",
       "             'Okenite': [640667],\n",
       "             'Fluorapatite': [582363],\n",
       "             'Aragonite': [670872],\n",
       "             'Amber': [574338],\n",
       "             'Stolzite': [337295],\n",
       "             'Zanazziite': [737468],\n",
       "             'Zoisite': [689153],\n",
       "             'Boulangerite': [658080],\n",
       "             'Cyrilovite': [753409],\n",
       "             'Andradite': [107424],\n",
       "             'Chalcedony': [416461, 313280],\n",
       "             'Agate': [416461, 313280],\n",
       "             'Dumortierite': [524018],\n",
       "             'Vesuvianite': [507618],\n",
       "             'Wurtzite': [501407],\n",
       "             'Jordanite': [501407]})"
      ]
     },
     "execution_count": 31,
     "metadata": {},
     "output_type": "execute_result"
    }
   ],
   "source": [
    "minerals_dict = defaultdict(list)\n",
    "for idx, row in train_df.sample(100).iterrows():\n",
    "    for mineral in row.minerals.split('|'):\n",
    "        minerals_dict[mineral].append(idx)\n",
    "        \n",
    "minerals_dict"
   ]
  },
  {
   "cell_type": "code",
   "execution_count": 26,
   "metadata": {},
   "outputs": [
    {
     "data": {
      "text/html": [
       "<div>\n",
       "<style scoped>\n",
       "    .dataframe tbody tr th:only-of-type {\n",
       "        vertical-align: middle;\n",
       "    }\n",
       "\n",
       "    .dataframe tbody tr th {\n",
       "        vertical-align: top;\n",
       "    }\n",
       "\n",
       "    .dataframe thead th {\n",
       "        text-align: right;\n",
       "    }\n",
       "</style>\n",
       "<table border=\"1\" class=\"dataframe\">\n",
       "  <thead>\n",
       "    <tr style=\"text-align: right;\">\n",
       "      <th></th>\n",
       "      <th>is_valid</th>\n",
       "      <th>st_size</th>\n",
       "    </tr>\n",
       "  </thead>\n",
       "  <tbody>\n",
       "    <tr>\n",
       "      <th>count</th>\n",
       "      <td>10000.000000</td>\n",
       "      <td>10000.000000</td>\n",
       "    </tr>\n",
       "    <tr>\n",
       "      <th>mean</th>\n",
       "      <td>0.201600</td>\n",
       "      <td>88842.774900</td>\n",
       "    </tr>\n",
       "    <tr>\n",
       "      <th>std</th>\n",
       "      <td>0.401215</td>\n",
       "      <td>65428.782168</td>\n",
       "    </tr>\n",
       "    <tr>\n",
       "      <th>min</th>\n",
       "      <td>0.000000</td>\n",
       "      <td>4341.000000</td>\n",
       "    </tr>\n",
       "    <tr>\n",
       "      <th>25%</th>\n",
       "      <td>0.000000</td>\n",
       "      <td>44076.000000</td>\n",
       "    </tr>\n",
       "    <tr>\n",
       "      <th>50%</th>\n",
       "      <td>0.000000</td>\n",
       "      <td>74151.500000</td>\n",
       "    </tr>\n",
       "    <tr>\n",
       "      <th>75%</th>\n",
       "      <td>0.000000</td>\n",
       "      <td>114371.500000</td>\n",
       "    </tr>\n",
       "    <tr>\n",
       "      <th>max</th>\n",
       "      <td>1.000000</td>\n",
       "      <td>927117.000000</td>\n",
       "    </tr>\n",
       "  </tbody>\n",
       "</table>\n",
       "</div>"
      ],
      "text/plain": [
       "           is_valid        st_size\n",
       "count  10000.000000   10000.000000\n",
       "mean       0.201600   88842.774900\n",
       "std        0.401215   65428.782168\n",
       "min        0.000000    4341.000000\n",
       "25%        0.000000   44076.000000\n",
       "50%        0.000000   74151.500000\n",
       "75%        0.000000  114371.500000\n",
       "max        1.000000  927117.000000"
      ]
     },
     "execution_count": 26,
     "metadata": {},
     "output_type": "execute_result"
    }
   ],
   "source": [
    "from fastai.vision import Path\n",
    "images_path = Path('/mnt/disks/ssd/data/images')\n",
    "sample_df = train_df.sample(10000)\n",
    "sample_df['st_size'] = sample_df.image_file.map(lambda f: (images_path/f).lstat().st_size)\n",
    "sample_df.describe()"
   ]
  },
  {
   "cell_type": "code",
   "execution_count": 78,
   "metadata": {},
   "outputs": [
    {
     "data": {
      "text/plain": [
       "54497280"
      ]
     },
     "execution_count": 78,
     "metadata": {},
     "output_type": "execute_result"
    }
   ],
   "source": [
    "Path('/mnt/disks/ssd/data/images').lstat().st_size"
   ]
  },
  {
   "cell_type": "code",
   "execution_count": null,
   "metadata": {},
   "outputs": [],
   "source": []
  }
 ],
 "metadata": {
  "kernelspec": {
   "display_name": "Python 3",
   "language": "python",
   "name": "python3"
  },
  "language_info": {
   "codemirror_mode": {
    "name": "ipython",
    "version": 3
   },
   "file_extension": ".py",
   "mimetype": "text/x-python",
   "name": "python",
   "nbconvert_exporter": "python",
   "pygments_lexer": "ipython3",
   "version": "3.7.3"
  }
 },
 "nbformat": 4,
 "nbformat_minor": 2
}
